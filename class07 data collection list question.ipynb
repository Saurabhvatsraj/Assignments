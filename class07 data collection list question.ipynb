{
 "cells": [
  {
   "cell_type": "code",
   "execution_count": 1,
   "id": "f8d10c2d",
   "metadata": {},
   "outputs": [
    {
     "name": "stdout",
     "output_type": "stream",
     "text": [
      "21\n"
     ]
    }
   ],
   "source": [
    "#wap to add the number in the list\n",
    "x=[2,7,8,4]\n",
    "b=0\n",
    "for i in x:\n",
    "    b=b+i\n",
    "print(b)"
   ]
  },
  {
   "cell_type": "code",
   "execution_count": 2,
   "id": "1d1b0878",
   "metadata": {},
   "outputs": [
    {
     "name": "stdout",
     "output_type": "stream",
     "text": [
      "71\n"
     ]
    }
   ],
   "source": [
    "# wap to find the greatest number in the list?\n",
    "\n",
    "x=[5,8,9,4,71,46,35]\n",
    "max_num=0\n",
    "for i in x:\n",
    "    if i>max_num:\n",
    "        max_num=i\n",
    "print(max_num)"
   ]
  },
  {
   "cell_type": "code",
   "execution_count": 3,
   "id": "057bd5c8",
   "metadata": {},
   "outputs": [
    {
     "name": "stdout",
     "output_type": "stream",
     "text": [
      "odd 1\n",
      "even 2\n",
      "odd 5\n",
      "even 6\n",
      "odd 9\n",
      "odd 11\n",
      "even 18\n"
     ]
    }
   ],
   "source": [
    "# wap to find odd & even number in the list?\n",
    "\n",
    "x=[1,2,5,6,9,11,18]\n",
    "\n",
    "for i in x:\n",
    "    if i%2==0:\n",
    "        print(\"even\",i)\n",
    "    else:\n",
    "        print(\"odd\",i)"
   ]
  },
  {
   "cell_type": "code",
   "execution_count": 7,
   "id": "f358a0a4",
   "metadata": {},
   "outputs": [
    {
     "name": "stdout",
     "output_type": "stream",
     "text": [
      "enter the namepython\n",
      "data  in the list python\n",
      "not daat in the list sql\n",
      "not daat in the list java\n",
      "not daat in the list powerbi\n"
     ]
    }
   ],
   "source": [
    "#wap to find to particular data present in the list or not?\n",
    "\n",
    "x=['python','sql','java','powerbi']\n",
    "y=input(\"enter the name\")\n",
    "for i in x:\n",
    "    if y in i:\n",
    "        print(\"data  in the list\",i)\n",
    "    else:\n",
    "        print(\"not daat in the list\",i)\n",
    "        "
   ]
  },
  {
   "cell_type": "code",
   "execution_count": 8,
   "id": "3e9b281b",
   "metadata": {},
   "outputs": [
    {
     "data": {
      "text/plain": [
       "[]"
      ]
     },
     "execution_count": 8,
     "metadata": {},
     "output_type": "execute_result"
    }
   ],
   "source": [
    "# wap to print empty list\n",
    "\n",
    "x=[]\n",
    "x"
   ]
  },
  {
   "cell_type": "code",
   "execution_count": 9,
   "id": "1e3a4883",
   "metadata": {},
   "outputs": [
    {
     "data": {
      "text/plain": [
       "[1]"
      ]
     },
     "execution_count": 9,
     "metadata": {},
     "output_type": "execute_result"
    }
   ],
   "source": [
    "# wap to print single element list\n",
    "\n",
    "x=[1]\n",
    "x"
   ]
  },
  {
   "cell_type": "code",
   "execution_count": null,
   "id": "d1deaeea",
   "metadata": {},
   "outputs": [],
   "source": []
  }
 ],
 "metadata": {
  "kernelspec": {
   "display_name": "Python 3 (ipykernel)",
   "language": "python",
   "name": "python3"
  },
  "language_info": {
   "codemirror_mode": {
    "name": "ipython",
    "version": 3
   },
   "file_extension": ".py",
   "mimetype": "text/x-python",
   "name": "python",
   "nbconvert_exporter": "python",
   "pygments_lexer": "ipython3",
   "version": "3.9.12"
  }
 },
 "nbformat": 4,
 "nbformat_minor": 5
}
