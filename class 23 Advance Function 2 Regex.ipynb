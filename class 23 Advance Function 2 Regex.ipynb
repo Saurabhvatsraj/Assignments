{
 "cells": [
  {
   "cell_type": "code",
   "execution_count": 1,
   "id": "3f0cf090",
   "metadata": {},
   "outputs": [],
   "source": [
    "# Regex---- regular +expresion----use for pattern matching\n",
    "# regex method-----1.search 2.split 3.findall 4. finditer 5. sub\n"
   ]
  },
  {
   "cell_type": "code",
   "execution_count": 2,
   "id": "8f0e13e9",
   "metadata": {},
   "outputs": [
    {
     "data": {
      "text/plain": [
       "['a', 'a']"
      ]
     },
     "execution_count": 2,
     "metadata": {},
     "output_type": "execute_result"
    }
   ],
   "source": [
    "# findall\n",
    "\n",
    "import re\n",
    "x=\"I am the lion and I know it\"\n",
    "re.findall('a',x)"
   ]
  },
  {
   "cell_type": "code",
   "execution_count": 3,
   "id": "432860fc",
   "metadata": {},
   "outputs": [
    {
     "data": {
      "text/plain": [
       "['lion']"
      ]
     },
     "execution_count": 3,
     "metadata": {},
     "output_type": "execute_result"
    }
   ],
   "source": [
    "re.findall('lion',x)"
   ]
  },
  {
   "cell_type": "code",
   "execution_count": 4,
   "id": "5df7db84",
   "metadata": {},
   "outputs": [
    {
     "data": {
      "text/plain": [
       "['i', 'i']"
      ]
     },
     "execution_count": 4,
     "metadata": {},
     "output_type": "execute_result"
    }
   ],
   "source": [
    "re.findall('i',x)"
   ]
  },
  {
   "cell_type": "code",
   "execution_count": 5,
   "id": "df765db4",
   "metadata": {},
   "outputs": [
    {
     "data": {
      "text/plain": [
       "['I', 'I']"
      ]
     },
     "execution_count": 5,
     "metadata": {},
     "output_type": "execute_result"
    }
   ],
   "source": [
    "re.findall('I',x)"
   ]
  },
  {
   "cell_type": "code",
   "execution_count": 6,
   "id": "43f57836",
   "metadata": {},
   "outputs": [],
   "source": [
    "# search\n",
    "\n",
    "import re"
   ]
  },
  {
   "cell_type": "code",
   "execution_count": 7,
   "id": "a19e0a55",
   "metadata": {},
   "outputs": [
    {
     "data": {
      "text/plain": [
       "'I am the lion and I know it'"
      ]
     },
     "execution_count": 7,
     "metadata": {},
     "output_type": "execute_result"
    }
   ],
   "source": [
    "x"
   ]
  },
  {
   "cell_type": "code",
   "execution_count": 8,
   "id": "1957d849",
   "metadata": {},
   "outputs": [
    {
     "data": {
      "text/plain": [
       "<re.Match object; span=(2, 3), match='a'>"
      ]
     },
     "execution_count": 8,
     "metadata": {},
     "output_type": "execute_result"
    }
   ],
   "source": [
    "re.search('a',x)"
   ]
  },
  {
   "cell_type": "code",
   "execution_count": 9,
   "id": "cdf966de",
   "metadata": {},
   "outputs": [
    {
     "data": {
      "text/plain": [
       "<re.Match object; span=(9, 13), match='lion'>"
      ]
     },
     "execution_count": 9,
     "metadata": {},
     "output_type": "execute_result"
    }
   ],
   "source": [
    "re.search('lion',x)"
   ]
  },
  {
   "cell_type": "code",
   "execution_count": 10,
   "id": "68f452c3",
   "metadata": {},
   "outputs": [],
   "source": [
    "re.search('tiger',x)"
   ]
  },
  {
   "cell_type": "code",
   "execution_count": 11,
   "id": "78e6c5ec",
   "metadata": {},
   "outputs": [
    {
     "data": {
      "text/plain": [
       "'I am the tiger and I know it'"
      ]
     },
     "execution_count": 11,
     "metadata": {},
     "output_type": "execute_result"
    }
   ],
   "source": [
    "#sub\n",
    "\n",
    "\n",
    "re.sub(\"lion\",\"tiger\",x)"
   ]
  },
  {
   "cell_type": "code",
   "execution_count": 12,
   "id": "f0342e14",
   "metadata": {},
   "outputs": [
    {
     "data": {
      "text/plain": [
       "'289,678,890'"
      ]
     },
     "execution_count": 12,
     "metadata": {},
     "output_type": "execute_result"
    }
   ],
   "source": [
    "# wap to replicate 130 to 289 using regex\n",
    "\n",
    "import re\n",
    "\n",
    "a='130,678,890'\n",
    "re.sub('130','289',a)"
   ]
  },
  {
   "cell_type": "code",
   "execution_count": 13,
   "id": "103359c0",
   "metadata": {},
   "outputs": [
    {
     "data": {
      "text/plain": [
       "'I am the lion and I know it'"
      ]
     },
     "execution_count": 13,
     "metadata": {},
     "output_type": "execute_result"
    }
   ],
   "source": [
    "# split \n",
    "x"
   ]
  },
  {
   "cell_type": "code",
   "execution_count": 14,
   "id": "e14fed25",
   "metadata": {},
   "outputs": [
    {
     "data": {
      "text/plain": [
       "['I am the ', ' and I know it']"
      ]
     },
     "execution_count": 14,
     "metadata": {},
     "output_type": "execute_result"
    }
   ],
   "source": [
    "re.split(\"lion\",x)"
   ]
  },
  {
   "cell_type": "code",
   "execution_count": 15,
   "id": "0446ea43",
   "metadata": {},
   "outputs": [
    {
     "name": "stdout",
     "output_type": "stream",
     "text": [
      "starting point is---- 10 ending point is---- 11\n",
      "starting point is---- 25 ending point is---- 26\n"
     ]
    }
   ],
   "source": [
    "# finditer----\n",
    "x=\"I am the lion and I know it\"\n",
    "pattern='i'\n",
    "for match in re.finditer(pattern,x):\n",
    "    \n",
    "    x=match.start()\n",
    "    y=match.end()\n",
    "    print(\"starting point is----\",x,\"ending point is----\",y)"
   ]
  },
  {
   "cell_type": "code",
   "execution_count": 16,
   "id": "25e0a4ec",
   "metadata": {},
   "outputs": [],
   "source": [
    "# finditer----\n",
    "x=\"Car\"\n",
    "pattern='i'\n",
    "for match in re.finditer(pattern,x):\n",
    "    \n",
    "    x=match.start()\n",
    "    y=match.end()\n",
    "    print(\"starting point is----\",x,\"ending point is----\",y)"
   ]
  },
  {
   "cell_type": "code",
   "execution_count": null,
   "id": "d46515f8",
   "metadata": {},
   "outputs": [],
   "source": []
  }
 ],
 "metadata": {
  "kernelspec": {
   "display_name": "Python 3 (ipykernel)",
   "language": "python",
   "name": "python3"
  },
  "language_info": {
   "codemirror_mode": {
    "name": "ipython",
    "version": 3
   },
   "file_extension": ".py",
   "mimetype": "text/x-python",
   "name": "python",
   "nbconvert_exporter": "python",
   "pygments_lexer": "ipython3",
   "version": "3.9.12"
  }
 },
 "nbformat": 4,
 "nbformat_minor": 5
}
