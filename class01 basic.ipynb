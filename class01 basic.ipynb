{
 "cells": [
  {
   "cell_type": "code",
   "execution_count": 1,
   "id": "5b50bd51",
   "metadata": {},
   "outputs": [
    {
     "ename": "SyntaxError",
     "evalue": "invalid syntax (2497053111.py, line 1)",
     "output_type": "error",
     "traceback": [
      "\u001b[1;36m  Input \u001b[1;32mIn [1]\u001b[1;36m\u001b[0m\n\u001b[1;33m    print(hello world)\u001b[0m\n\u001b[1;37m                ^\u001b[0m\n\u001b[1;31mSyntaxError\u001b[0m\u001b[1;31m:\u001b[0m invalid syntax\n"
     ]
    }
   ],
   "source": [
    "print(hello world)"
   ]
  },
  {
   "cell_type": "code",
   "execution_count": null,
   "id": "e4eb9e23",
   "metadata": {},
   "outputs": [],
   "source": [
    "print('hello world')"
   ]
  },
  {
   "cell_type": "code",
   "execution_count": null,
   "id": "336fb70f",
   "metadata": {},
   "outputs": [],
   "source": [
    "print(\"hello world\")"
   ]
  },
  {
   "cell_type": "code",
   "execution_count": null,
   "id": "51fa4086",
   "metadata": {},
   "outputs": [],
   "source": [
    "print('ram's book')"
   ]
  },
  {
   "cell_type": "code",
   "execution_count": null,
   "id": "8fae8226",
   "metadata": {},
   "outputs": [],
   "source": [
    "print(\"ram's book\")"
   ]
  },
  {
   "cell_type": "code",
   "execution_count": null,
   "id": "b8ef081c",
   "metadata": {},
   "outputs": [],
   "source": [
    "print(123)"
   ]
  },
  {
   "cell_type": "code",
   "execution_count": null,
   "id": "43ac5711",
   "metadata": {},
   "outputs": [],
   "source": [
    "print('123')"
   ]
  },
  {
   "cell_type": "code",
   "execution_count": null,
   "id": "3d772c2a",
   "metadata": {},
   "outputs": [],
   "source": [
    "print('123'+'1')"
   ]
  },
  {
   "cell_type": "code",
   "execution_count": null,
   "id": "638edd52",
   "metadata": {},
   "outputs": [],
   "source": [
    "print(123+2)"
   ]
  },
  {
   "cell_type": "code",
   "execution_count": null,
   "id": "87c7abb7",
   "metadata": {},
   "outputs": [],
   "source": [
    "print(\"saur@23\")"
   ]
  },
  {
   "cell_type": "code",
   "execution_count": null,
   "id": "885bcbbe",
   "metadata": {},
   "outputs": [],
   "source": [
    "print(sau@23)"
   ]
  },
  {
   "cell_type": "code",
   "execution_count": null,
   "id": "aa7a6f9c",
   "metadata": {},
   "outputs": [],
   "source": [
    "# variable and data types\n",
    "\n",
    "a=6\n",
    "a=2\n",
    "a=-1\n",
    "a=-8\n",
    "a=7\n",
    "print(a)"
   ]
  },
  {
   "cell_type": "code",
   "execution_count": null,
   "id": "23e9da08",
   "metadata": {},
   "outputs": [],
   "source": [
    "# data types----1.integer 2. string 3. complex\n",
    "#4.boolean 5.complex\n",
    "\n",
    "#1 Integer----- any number does not mena  positive or negative\n",
    "\n",
    "a=3\n",
    "print(1)\n",
    "type(a)"
   ]
  },
  {
   "cell_type": "code",
   "execution_count": null,
   "id": "e833f53c",
   "metadata": {},
   "outputs": [],
   "source": [
    "a=-9\n",
    "print(a)\n",
    "type(a)"
   ]
  },
  {
   "cell_type": "code",
   "execution_count": null,
   "id": "03626a9f",
   "metadata": {},
   "outputs": [],
   "source": [
    "#2Float------decimal number\n",
    "\n",
    "a=-2.4\n",
    "print(a)\n",
    "type(a)"
   ]
  },
  {
   "cell_type": "code",
   "execution_count": null,
   "id": "e7874728",
   "metadata": {},
   "outputs": [],
   "source": [
    "a=7/2\n",
    "print(a)\n",
    "type(a)"
   ]
  },
  {
   "cell_type": "code",
   "execution_count": null,
   "id": "8073de59",
   "metadata": {},
   "outputs": [],
   "source": [
    "# 3.Boolean----True & False\n",
    "\n",
    "a=True\n",
    "print(a)\n",
    "type(a)"
   ]
  },
  {
   "cell_type": "code",
   "execution_count": null,
   "id": "8a3dd45d",
   "metadata": {},
   "outputs": [],
   "source": [
    "a=False\n",
    "print(a)\n",
    "type(a)"
   ]
  },
  {
   "cell_type": "code",
   "execution_count": null,
   "id": "2db4401b",
   "metadata": {},
   "outputs": [],
   "source": [
    "#4 Complex----(a+bj)\n",
    "\n",
    "x=3+5j\n",
    "print(x)\n",
    "type(x)"
   ]
  },
  {
   "cell_type": "code",
   "execution_count": null,
   "id": "a8755b56",
   "metadata": {},
   "outputs": [],
   "source": [
    "# 5. String-----any number or character jo quotes mai hoga\n",
    "\n",
    "x='123'\n",
    "print(x)\n",
    "type(x)"
   ]
  },
  {
   "cell_type": "code",
   "execution_count": null,
   "id": "38692afd",
   "metadata": {},
   "outputs": [],
   "source": [
    "x='sau@23'\n",
    "print(x)\n",
    "type(x)"
   ]
  },
  {
   "cell_type": "code",
   "execution_count": null,
   "id": "b97b0751",
   "metadata": {},
   "outputs": [],
   "source": [
    "# wap to add two numbers\n",
    "a=1\n",
    "b=3\n",
    "c=a+b\n",
    "print(a)"
   ]
  },
  {
   "cell_type": "code",
   "execution_count": 2,
   "id": "08100be8",
   "metadata": {},
   "outputs": [
    {
     "name": "stdout",
     "output_type": "stream",
     "text": [
      "enter the  number3\n",
      "enteer the number5\n",
      "8\n"
     ]
    }
   ],
   "source": [
    "a=int(input(\"enter the  number\"))\n",
    "b=int(input(\"enteer the number\"))\n",
    "c=a+b\n",
    "print(c)"
   ]
  },
  {
   "cell_type": "code",
   "execution_count": 3,
   "id": "83ec5581",
   "metadata": {},
   "outputs": [
    {
     "name": "stdout",
     "output_type": "stream",
     "text": [
      "44 90\n"
     ]
    }
   ],
   "source": [
    "# wap to swap  two number with the hepl of third variable\n",
    "\n",
    "a=90\n",
    "b=44\n",
    "c=b\n",
    "b=a\n",
    "a=c\n",
    "print(a,b)"
   ]
  },
  {
   "cell_type": "code",
   "execution_count": 7,
   "id": "eb983f94",
   "metadata": {},
   "outputs": [
    {
     "name": "stdout",
     "output_type": "stream",
     "text": [
      "7 9\n"
     ]
    }
   ],
   "source": [
    "# wap to swap two number without third variable\n",
    "\n",
    "a=9\n",
    "b=7\n",
    "a,b=b,a\n",
    "print(a,b)"
   ]
  },
  {
   "cell_type": "code",
   "execution_count": null,
   "id": "87d462c2",
   "metadata": {},
   "outputs": [],
   "source": []
  }
 ],
 "metadata": {
  "kernelspec": {
   "display_name": "Python 3 (ipykernel)",
   "language": "python",
   "name": "python3"
  },
  "language_info": {
   "codemirror_mode": {
    "name": "ipython",
    "version": 3
   },
   "file_extension": ".py",
   "mimetype": "text/x-python",
   "name": "python",
   "nbconvert_exporter": "python",
   "pygments_lexer": "ipython3",
   "version": "3.9.12"
  }
 },
 "nbformat": 4,
 "nbformat_minor": 5
}
