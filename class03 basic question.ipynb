{
 "cells": [
  {
   "cell_type": "code",
   "execution_count": 1,
   "id": "ca1ad395",
   "metadata": {},
   "outputs": [
    {
     "name": "stdout",
     "output_type": "stream",
     "text": [
      "26250.0\n"
     ]
    }
   ],
   "source": [
    "# ques1 A company decided to give bonus of 5% to employee if his/her year of service \n",
    "#is more than 5 years\n",
    "#Ask user for their salary and year of service and print the net bonus amount.\n",
    "\n",
    "year_of_service=10\n",
    "salary=25000\n",
    "if year_of_service>5:\n",
    "    bonus=salary*(.05)\n",
    "    total_salary=salary+bonus\n",
    "    print(total_salary)\n",
    "else:\n",
    "    print(\"no bonus\")\n"
   ]
  },
  {
   "cell_type": "code",
   "execution_count": 2,
   "id": "1f72dd45",
   "metadata": {},
   "outputs": [
    {
     "name": "stdout",
     "output_type": "stream",
     "text": [
      "not square\n"
     ]
    }
   ],
   "source": [
    "#ques 2 Take values of length and breadth of a rectangle from user and check if it is square or not.\n",
    "\n",
    "l=6\n",
    "b=5\n",
    "if l*b==l*l or l*b==b*b:\n",
    "    print(\"Square\")\n",
    "else:\n",
    "    print(\"not square\")"
   ]
  },
  {
   "cell_type": "code",
   "execution_count": 3,
   "id": "22c2683c",
   "metadata": {},
   "outputs": [
    {
     "name": "stdout",
     "output_type": "stream",
     "text": [
      "enter the number4\n",
      "enter the number4\n",
      "B is max\n"
     ]
    }
   ],
   "source": [
    "#ques3 Take two int values from user and print greatest among them.\n",
    "a=int(input(\"enter the number\"))\n",
    "b=int(input(\"enter the number\"))\n",
    "if a>b:\n",
    "    print(\"A is max\")\n",
    "else:\n",
    "    print(\"B is max\")"
   ]
  },
  {
   "cell_type": "code",
   "execution_count": 4,
   "id": "2d80b721",
   "metadata": {},
   "outputs": [
    {
     "name": "stdout",
     "output_type": "stream",
     "text": [
      "10800.0\n"
     ]
    }
   ],
   "source": [
    "# ques 4 A shop will give discount of 10% if the cost of purchased quantity is more than 1000.\n",
    "#Ask user for quantity\n",
    "#Suppose, one unit will cost 100.\n",
    "#Judge and print total cost for user.\n",
    "\n",
    "quantity=120\n",
    "one_cost_unit=100\n",
    "total_price=quantity*one_cost_unit\n",
    "if total_price>1000:\n",
    "    dis=total_price*(.10)\n",
    "    final_price=total_price-dis\n",
    "    print(final_price)\n",
    "else:\n",
    "    print(\"no discount\",total_price)\n",
    "    \n"
   ]
  },
  {
   "cell_type": "code",
   "execution_count": 5,
   "id": "b4fef542",
   "metadata": {},
   "outputs": [
    {
     "name": "stdout",
     "output_type": "stream",
     "text": [
      "enter the number5\n",
      "FAIL\n"
     ]
    }
   ],
   "source": [
    "# ques5 .A school has following rules for grading system:\n",
    "#a. Below 25 - F\n",
    "#b. 25 to 45 - E\n",
    "#c. 45 to 50 - D\n",
    "#d. 50 to 60 - C\n",
    "#e. 60 to 80 - B\n",
    "#f. Above 80 - A\n",
    "#Ask user to enter marks and print the corresponding grade.\n",
    "\n",
    "marks=int(input(\"enter the number\"))\n",
    "if marks>80:\n",
    "    print(\"Grade A\")\n",
    "elif marks>60 and marks<=80:\n",
    "        print(\"Grade B\")\n",
    "elif marks>50 and marks<=60:\n",
    "        print(\"Grade C\")\n",
    "elif marks>45 and marks<=50:\n",
    "        print(\"Grade D\")\n",
    "elif marks>25 and marks<=45:\n",
    "        print(\"Grade C\")\n",
    "elif marks<25:\n",
    "        print(\"FAIL\")\n",
    "    "
   ]
  },
  {
   "cell_type": "code",
   "execution_count": 6,
   "id": "0b99485c",
   "metadata": {},
   "outputs": [
    {
     "name": "stdout",
     "output_type": "stream",
     "text": [
      "enter the number5\n",
      "enter the number5\n",
      "enter the number6\n",
      "C is older\n"
     ]
    }
   ],
   "source": [
    "# ques6 Take input of age of 3 people by user and determine oldest and youngest among them.\n",
    "\n",
    "a=int(input(\"enter the number\"))\n",
    "b=int(input(\"enter the number\"))\n",
    "c=int(input(\"enter the number\"))\n",
    "if a>b and a>c:\n",
    "    print(\"A is older\")\n",
    "elif b>a and b>c:\n",
    "    print(\"B is older\")\n",
    "else:\n",
    "    print(\"C is older\")\n"
   ]
  },
  {
   "cell_type": "code",
   "execution_count": 7,
   "id": "bbaeda40",
   "metadata": {},
   "outputs": [
    {
     "name": "stdout",
     "output_type": "stream",
     "text": [
      "enter the number6\n",
      "enter the number7\n",
      "enter the number8\n",
      "A is younger\n"
     ]
    }
   ],
   "source": [
    "a=int(input(\"enter the number\"))\n",
    "b=int(input(\"enter the number\"))\n",
    "c=int(input(\"enter the number\"))\n",
    "if a<b and a<c:\n",
    "    print(\"A is younger\")\n",
    "elif b<a and b<c:\n",
    "    print(\"B is younger\")\n",
    "else:\n",
    "    print(\"C is younger\")"
   ]
  },
  {
   "cell_type": "code",
   "execution_count": 8,
   "id": "e8171d3b",
   "metadata": {},
   "outputs": [
    {
     "name": "stdout",
     "output_type": "stream",
     "text": [
      "enter the total class10\n",
      "enter the attend class9\n",
      "Allowed\n"
     ]
    }
   ],
   "source": [
    "#A student will not be allowed to sit in exam if his/her attendence is less than 75%.\n",
    "#Take following input from user\n",
    "#Number of classes held\n",
    "#And print\n",
    "#percentage of class attended\n",
    "#Is student is allowed to sit in exam or not.\n",
    "\n",
    "total_class=int(input(\"enter the total class\"))\n",
    "attend_class=int(input(\"enter the attend class\"))\n",
    "per_attend=(attend_class/total_class)*100\n",
    "if per_attend>75:\n",
    "    print(\"Allowed\")\n",
    "else:\n",
    "    print(\"not allowed\")\n"
   ]
  },
  {
   "cell_type": "code",
   "execution_count": 9,
   "id": "e59bee87",
   "metadata": {},
   "outputs": [],
   "source": [
    "#Modify the above question to allow student to sit if he/she has\n",
    "#medical cause. Ask user if he/she has medical cause or not ( 'Y' or 'N' ) and print accordingly."
   ]
  },
  {
   "cell_type": "code",
   "execution_count": 12,
   "id": "5be7d8af",
   "metadata": {},
   "outputs": [
    {
     "name": "stdout",
     "output_type": "stream",
     "text": [
      "enter the total class100\n",
      "enter the attend class50\n",
      "y/nn\n",
      "not allowed\n"
     ]
    }
   ],
   "source": [
    "total_class=int(input(\"enter the total class\"))\n",
    "attend_class=int(input(\"enter the attend class\"))\n",
    "medical_case=input(\"y/n\")\n",
    "per_attend=(attend_class/total_class)*100\n",
    "if per_attend>75:\n",
    "    print(\"Allowed\")\n",
    "elif per_attend<75 and medical_case=='y':\n",
    "    print(\"allowed\")\n",
    "else:\n",
    "    print(\"not allowed\")"
   ]
  },
  {
   "cell_type": "code",
   "execution_count": 17,
   "id": "2dfeb447",
   "metadata": {},
   "outputs": [
    {
     "name": "stdout",
     "output_type": "stream",
     "text": [
      "not wierd\n"
     ]
    }
   ],
   "source": [
    "# ques wap to print if n is odd print wierd and the range of 2-5 print not wierd if n is even and the \n",
    "# inclusive range of 6-20 print wierd if n is even & grater than 20 print not wierd\n",
    "\n",
    "n=5\n",
    "if n%2!=0:\n",
    "    if n>=2 and n<=5:\n",
    "        print(\"not wierd\")\n",
    "elif n>=6 and n<=20:\n",
    "    print(\"wierd\")\n",
    "elif n>20:\n",
    "    print(\" not wierd\")"
   ]
  },
  {
   "cell_type": "code",
   "execution_count": null,
   "id": "64b42105",
   "metadata": {},
   "outputs": [],
   "source": []
  }
 ],
 "metadata": {
  "kernelspec": {
   "display_name": "Python 3 (ipykernel)",
   "language": "python",
   "name": "python3"
  },
  "language_info": {
   "codemirror_mode": {
    "name": "ipython",
    "version": 3
   },
   "file_extension": ".py",
   "mimetype": "text/x-python",
   "name": "python",
   "nbconvert_exporter": "python",
   "pygments_lexer": "ipython3",
   "version": "3.9.12"
  }
 },
 "nbformat": 4,
 "nbformat_minor": 5
}
